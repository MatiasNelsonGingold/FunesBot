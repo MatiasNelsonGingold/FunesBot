{
 "cells": [
  {
   "cell_type": "markdown",
   "id": "b1a7e7db",
   "metadata": {},
   "source": [
    "# Proyecto FunesBot Parte 1\n",
    "## Etapa de convertir libro de pdf a .txt para procesamiento\n"
   ]
  },
  {
   "cell_type": "code",
   "execution_count": 55,
   "id": "89656be2",
   "metadata": {},
   "outputs": [
    {
     "name": "stdout",
     "output_type": "stream",
     "text": [
      "Requirement already satisfied: nltk in /home/camilabs/.pyenv/versions/3.10.6/envs/lewagon/lib/python3.10/site-packages (3.7)\r\n",
      "Requirement already satisfied: click in /home/camilabs/.pyenv/versions/3.10.6/envs/lewagon/lib/python3.10/site-packages (from nltk) (8.1.3)\r\n",
      "Requirement already satisfied: joblib in /home/camilabs/.pyenv/versions/3.10.6/envs/lewagon/lib/python3.10/site-packages (from nltk) (1.1.1)\r\n",
      "Requirement already satisfied: regex>=2021.8.3 in /home/camilabs/.pyenv/versions/3.10.6/envs/lewagon/lib/python3.10/site-packages (from nltk) (2022.9.13)\r\n",
      "Requirement already satisfied: tqdm in /home/camilabs/.pyenv/versions/3.10.6/envs/lewagon/lib/python3.10/site-packages (from nltk) (4.64.1)\r\n"
     ]
    }
   ],
   "source": [
    "!pip install nltk"
   ]
  },
  {
   "cell_type": "code",
   "execution_count": 56,
   "id": "eb44a64e",
   "metadata": {},
   "outputs": [],
   "source": [
    "import nltk\n",
    "from nltk.tokenize import word_tokenize, sent_tokenize\n",
    "from nltk.corpus import stopwords\n",
    "import os.path\n",
    "import PyPDF2\n",
    "import os\n",
    "from PyPDF2 import PdfFileReader"
   ]
  },
  {
   "cell_type": "code",
   "execution_count": 57,
   "id": "8284ca16",
   "metadata": {},
   "outputs": [
    {
     "name": "stderr",
     "output_type": "stream",
     "text": [
      "[nltk_data] Downloading package punkt to /home/camilabs/nltk_data...\n",
      "[nltk_data]   Package punkt is already up-to-date!\n",
      "[nltk_data] Downloading package averaged_perceptron_tagger to\n",
      "[nltk_data]     /home/camilabs/nltk_data...\n",
      "[nltk_data]   Package averaged_perceptron_tagger is already up-to-\n",
      "[nltk_data]       date!\n",
      "[nltk_data] Downloading package wordnet to /home/camilabs/nltk_data...\n",
      "[nltk_data]   Package wordnet is already up-to-date!\n",
      "[nltk_data] Downloading package stopwords to\n",
      "[nltk_data]     /home/camilabs/nltk_data...\n",
      "[nltk_data]   Package stopwords is already up-to-date!\n"
     ]
    },
    {
     "data": {
      "text/plain": [
       "True"
      ]
     },
     "execution_count": 57,
     "metadata": {},
     "output_type": "execute_result"
    }
   ],
   "source": [
    "# Descargar recursos adicionales de NLTK\n",
    "nltk.download('punkt')\n",
    "nltk.download('averaged_perceptron_tagger')\n",
    "nltk.download('wordnet')\n",
    "nltk.download('stopwords')"
   ]
  },
  {
   "cell_type": "code",
   "execution_count": null,
   "id": "082a86c5",
   "metadata": {},
   "outputs": [],
   "source": []
  },
  {
   "cell_type": "code",
   "execution_count": null,
   "id": "5a7193cc",
   "metadata": {},
   "outputs": [],
   "source": []
  },
  {
   "cell_type": "code",
   "execution_count": null,
   "id": "2fba41ed",
   "metadata": {},
   "outputs": [],
   "source": []
  },
  {
   "cell_type": "code",
   "execution_count": null,
   "id": "686ef20f",
   "metadata": {},
   "outputs": [],
   "source": []
  },
  {
   "cell_type": "code",
   "execution_count": null,
   "id": "f7e6e830",
   "metadata": {},
   "outputs": [],
   "source": []
  },
  {
   "cell_type": "code",
   "execution_count": 2,
   "id": "f3bc2f9c",
   "metadata": {},
   "outputs": [
    {
     "ename": "NameError",
     "evalue": "name 'text' is not defined",
     "output_type": "error",
     "traceback": [
      "\u001b[0;31m---------------------------------------------------------------------------\u001b[0m",
      "\u001b[0;31mNameError\u001b[0m                                 Traceback (most recent call last)",
      "Cell \u001b[0;32mIn [2], line 42\u001b[0m\n\u001b[1;32m     37\u001b[0m questions, answers \u001b[38;5;241m=\u001b[39m load_qa_from_file(file_path)\n\u001b[1;32m     41\u001b[0m \u001b[38;5;66;03m# Preprocesamiento del texto\u001b[39;00m\n\u001b[0;32m---> 42\u001b[0m text \u001b[38;5;241m=\u001b[39m preprocess_text(\u001b[43mtext\u001b[49m)\n\u001b[1;32m     44\u001b[0m \u001b[38;5;66;03m# Tokenización y análisis gramatical\u001b[39;00m\n\u001b[1;32m     45\u001b[0m tokenized_sentences \u001b[38;5;241m=\u001b[39m tokenize_sentences(text)\n",
      "\u001b[0;31mNameError\u001b[0m: name 'text' is not defined"
     ]
    }
   ],
   "source": [
    "# Cargar preguntas y respuestas desde un archivo de texto\n",
    "def load_qa_from_file(file_path):\n",
    "    questions = []\n",
    "    answers = []\n",
    "    with open(file_path, 'r', encoding='utf-8') as file:\n",
    "        for line in file:\n",
    "            line = line.strip()\n",
    "            if line:\n",
    "                question, answer = line.split('|')\n",
    "                questions.append(question.strip())\n",
    "                answers.append(answer.strip())\n",
    "    return questions, answers\n",
    "\n",
    "# Preprocesamiento del texto, tokenización y análisis gramatical\n",
    "def preprocess_text(text):\n",
    "    # Implementa aquí el preprocesamiento necesario para limpiar y preparar el texto\n",
    "    # Puedes eliminar signos de puntuación, números, convertir a minúsculas, etc.\n",
    "    return text\n",
    "\n",
    "def tokenize_sentences(text):\n",
    "    sentences = sent_tokenize(text)\n",
    "    tokenized_sentences = [word_tokenize(sentence) for sentence in sentences]\n",
    "    return tokenized_sentences\n",
    "\n",
    "def tag_sentences(tokenized_sentences):\n",
    "    tagged_sentences = [nltk.pos_tag(tokens) for tokens in tokenized_sentences]\n",
    "    return tagged_sentences\n",
    "\n",
    "# Responder preguntas\n",
    "def generate_answer(question, questions, answers):\n",
    "    # Implementa aquí tu lógica para generar una respuesta basada en la pregunta\n",
    "    # Puedes utilizar patrones de búsqueda, similitud de texto, etc.\n",
    "    return \"No se encontró una respuesta para esa pregunta.\"\n",
    "\n",
    "# Cargar preguntas y respuestas desde un archivo de texto\n",
    "file_path =\"QA.txt\"\n",
    "questions, answers = load_qa_from_file(file_path)\n",
    "\n",
    "\n",
    "\n",
    "# Preprocesamiento del texto\n",
    "text = preprocess_text(text)\n",
    "\n",
    "# Tokenización y análisis gramatical\n",
    "tokenized_sentences = tokenize_sentences(text)\n",
    "tagged_sentences = tag_sentences(tokenized_sentences)\n",
    "\n",
    "\n"
   ]
  },
  {
   "cell_type": "code",
   "execution_count": null,
   "id": "02cd11d7",
   "metadata": {},
   "outputs": [],
   "source": []
  },
  {
   "cell_type": "code",
   "execution_count": null,
   "id": "69ed1e89",
   "metadata": {},
   "outputs": [],
   "source": []
  },
  {
   "cell_type": "code",
   "execution_count": null,
   "id": "c11b554f",
   "metadata": {},
   "outputs": [],
   "source": [
    "# Interacción con el usuario\n",
    "print(\"¡Bienvenido! Estoy aquí para responder tus preguntas.\")\n",
    "while True:\n",
    "    user_question = input(\"Ingresa tu pregunta (o 'salir' para terminar): \")\n",
    "    if user_question.lower() == 'salir':\n",
    "        break\n",
    "    answer = generate_answer(user_question, questions, answers)\n",
    "    if answer == \"No se encontró una respuesta para esa pregunta.\":\n",
    "        new_question = input(\"No tengo una respuesta para esa pregunta. Por favor, proporciona una respuesta: \")\n",
    "        questions.append(user_question)\n",
    "        answers.append(new_question)\n",
    "        print(\"¡Gracias por enseñarme algo nuevo!\")\n",
    "    else:\n",
    "        print(\"Respuesta:\", answer)\n",
    "\n",
    "print(\"¡Hasta luego!\")"
   ]
  },
  {
   "cell_type": "code",
   "execution_count": null,
   "id": "1cff7446",
   "metadata": {},
   "outputs": [],
   "source": []
  },
  {
   "cell_type": "code",
   "execution_count": null,
   "id": "649a56c4",
   "metadata": {},
   "outputs": [],
   "source": []
  }
 ],
 "metadata": {
  "kernelspec": {
   "display_name": "Python 3 (ipykernel)",
   "language": "python",
   "name": "python3"
  },
  "language_info": {
   "codemirror_mode": {
    "name": "ipython",
    "version": 3
   },
   "file_extension": ".py",
   "mimetype": "text/x-python",
   "name": "python",
   "nbconvert_exporter": "python",
   "pygments_lexer": "ipython3",
   "version": "3.10.6"
  },
  "toc": {
   "base_numbering": 1,
   "nav_menu": {},
   "number_sections": true,
   "sideBar": true,
   "skip_h1_title": false,
   "title_cell": "Table of Contents",
   "title_sidebar": "Contents",
   "toc_cell": false,
   "toc_position": {},
   "toc_section_display": true,
   "toc_window_display": false
  }
 },
 "nbformat": 4,
 "nbformat_minor": 5
}
