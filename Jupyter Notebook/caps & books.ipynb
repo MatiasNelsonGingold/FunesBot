{
 "cells": [
  {
   "cell_type": "code",
   "execution_count": 1,
   "id": "3546c38c",
   "metadata": {},
   "outputs": [],
   "source": [
    "import langchain\n",
    "import pandas as pd"
   ]
  },
  {
   "cell_type": "code",
   "execution_count": 2,
   "id": "3d450b58",
   "metadata": {},
   "outputs": [],
   "source": [
    "from langchain.document_loaders import PyPDFLoader"
   ]
  },
  {
   "cell_type": "code",
   "execution_count": 3,
   "id": "7b98dc55",
   "metadata": {},
   "outputs": [],
   "source": [
    "ruta_pdf = './War and Peace (Leo Tolstoy).pdf'"
   ]
  },
  {
   "cell_type": "code",
   "execution_count": 4,
   "id": "21fe6f1f",
   "metadata": {},
   "outputs": [],
   "source": [
    "loader = PyPDFLoader(ruta_pdf)\n",
    "pages = loader.load_and_split()\n",
    "libro = [page.page_content for page in pages]"
   ]
  },
  {
   "cell_type": "code",
   "execution_count": 5,
   "id": "c81e23a1",
   "metadata": {},
   "outputs": [],
   "source": [
    "meta_datos = pd.read_csv('war_and_peace.csv')"
   ]
  },
  {
   "cell_type": "markdown",
   "id": "828440cc",
   "metadata": {},
   "source": [
    "    ARMADO\n",
    "   "
   ]
  },
  {
   "cell_type": "code",
   "execution_count": 6,
   "id": "fa811aab",
   "metadata": {},
   "outputs": [],
   "source": [
    "retrieval_ = ['What I say is widen the scope of our society, let the\\nmot d’ordre be not virtue alone but independence and action as well!”\\n\\nNicholas, who had left his nephew, irritably pushed up an armchair, sat\\ndown in it, and listened to Pierre, coughing discontentedly and frowning\\nmore and more.\\n\\n“But action with what aim?” he cried. “And what position will you adopt\\ntoward the government?”\\n\\n“Why, the position of assistants. The society need not be secret if the\\ngovernment allows it. ', 'Princess Mary will take her there and\\nshow her over, and they’ll talk nineteen to the dozen. That’s\\ntheir woman’s way! I am glad to have her. Sit down and talk. About\\nMikhelson’s army I understand—Tolstóy’s too... a simultaneous\\nexpedition.... But what’s the southern army to do? Prussia is\\nneutral... I know that. What about Austria?” said he, rising from his\\nchair and pacing up and down the room followed by Tíkhon, who ran after\\nhim, handing him different articles of clothing. “What of Sweden? ', '“He seeks only for peace, and only\\nthese people sans foi ni loi * can give it him—people who recklessly\\nhack at and strangle everything—Magnítski, Arakchéev, and tutti\\nquanti.... You will agree that if you did not look after your estates\\nyourself but only wanted a quiet life, the harsher your steward was the\\nmore readily your object might be attained,” he said to Nicholas.\\n\\n* Without faith or law.\\n\\n“Well, what does that lead up to?” said Nicholas.\\n\\n“Well, everything is going to ruin! ', 'Such is the fate not of great men (grands hommes) whom the Russian mind\\ndoes not acknowledge, but of those rare and always solitary individuals\\nwho, discerning the will of Providence, submit their personal will to\\nit. The hatred and contempt of the crowd punish such men for discerning\\nthe higher laws.\\n\\nFor Russian historians, strange and terrible to say, Napoleon—that most\\ninsignificant tool of history who never anywhere, even in exile, showed\\nhuman dignity—Napoleon is the object of adulation and enthusiasm; he\\nis grand. ', 'At that moment it seemed to\\nhim that he was chosen to give a new direction to the whole of Russian\\nsociety and to the whole world.\\n\\n“I only wished to say that ideas that have great results are always\\nsimple ones. My whole idea is that if vicious people are united and\\nconstitute a power, then honest folk must do the same. Now that’s simple\\nenough.”\\n\\n“Yes.”\\n\\n“And what were you going to say?”\\n\\n“I? Only nonsense.”\\n\\n“But all the same?”\\n\\n“Oh nothing, only a trifle,” said Natásha, smiling still more brightly.\\n']"
   ]
  },
  {
   "cell_type": "code",
   "execution_count": 7,
   "id": "2708f4f1",
   "metadata": {},
   "outputs": [],
   "source": [
    "#Limpiar el retrieval de caracteres distractores ****\n",
    "def limpiar_texto(list_of_retrieval):\n",
    "    texto_limpio = []\n",
    "    for texto in list_of_retrieval:\n",
    "        texto_sin_saltos = texto.replace(\"\\\\n\", \" \")\n",
    "        texto_limpio_ = texto_sin_saltos.replace(\"\\\\\", \" \")\n",
    "        texto_limpio_ = texto_limpio_.replace(\"\\n\", \" \")\n",
    "        texto_limpio.append(texto_limpio_)\n",
    "    return texto_limpio"
   ]
  },
  {
   "cell_type": "code",
   "execution_count": 8,
   "id": "78d90965",
   "metadata": {},
   "outputs": [],
   "source": [
    "#Buscar cada retrieval en el PDF \n",
    "def buscar_pagina(texto_buscado, lista):\n",
    "    for indice, texto in enumerate(lista):\n",
    "        if texto_buscado in texto:\n",
    "            return indice + 1\n",
    "    return -1"
   ]
  },
  {
   "cell_type": "code",
   "execution_count": 56,
   "id": "164419e9",
   "metadata": {},
   "outputs": [
    {
     "data": {
      "text/plain": [
       "[1317, 109, 1317, 1222, 1327]"
      ]
     },
     "execution_count": 56,
     "metadata": {},
     "output_type": "execute_result"
    }
   ],
   "source": [
    "test = []\n",
    "for texto in limpiar_texto(retrieval_):\n",
    "    texto_in = texto[1:20]\n",
    "    test.append(buscar_pagina(texto_in, libro))\n",
    "test"
   ]
  },
  {
   "cell_type": "code",
   "execution_count": 38,
   "id": "adaca307",
   "metadata": {},
   "outputs": [],
   "source": [
    "def book_chapter(page,texto_limpio):\n",
    "    metadatos = meta_datos[meta_datos.apply(lambda row: row['started_page'] < int(page) < row['end_page'], axis=1)]\n",
    "    if not metadatos.empty:\n",
    "        chapter = metadatos['Chapter'].iloc[0]\n",
    "        book = metadatos['Book'].iloc[0] \n",
    "        return page, chapter, book\n",
    "    else:\n",
    "        n_texto = tmp.index(page)\n",
    "        p_chapter = libro[page-1].find('CHAPTER')\n",
    "        p_texto = libro[page-1].find(texto_limpio[n_texto])\n",
    "        \n",
    "        if p_chapter > p_texto:\n",
    "            metadatos = meta_datos[meta_datos['end_page'] == page]\n",
    "            if not metadatos.empty:\n",
    "                chapter = metadatos['Chapter'].iloc[0]\n",
    "                book = metadatos['Book'].iloc[0]\n",
    "                return page, chapter, book\n",
    "        else:\n",
    "            metadatos = meta_datos[meta_datos['started_page'] == page]\n",
    "            if not metadatos.empty:\n",
    "                chapter = metadatos['Chapter'].iloc[0]\n",
    "                book = metadatos['Book'].iloc[0]\n",
    "                return page, chapter, book\n",
    "        return None, None, page"
   ]
  },
  {
   "cell_type": "code",
   "execution_count": 77,
   "id": "8546297b",
   "metadata": {},
   "outputs": [
    {
     "data": {
      "text/plain": [
       "[(1317, 'chapter 14', '1st epilogue: 1813 - 20'),\n",
       " (109, 'chapter 26', '1st book: 1805'),\n",
       " (1317, 'chapter 14', '1st epilogue: 1813 - 20'),\n",
       " (1222, 'chapter 4', '15th book: 1812 - 13'),\n",
       " (1327, 'chapter 16', '1st epilogue: 1813 - 20')]"
      ]
     },
     "execution_count": 77,
     "metadata": {},
     "output_type": "execute_result"
    }
   ],
   "source": [
    "test2 = []\n",
    "for page in test:\n",
    "    test2.append(book_chapter(page,limpiar_texto(retrieval_)))\n",
    "test2"
   ]
  },
  {
   "cell_type": "code",
   "execution_count": 58,
   "id": "972a48fa",
   "metadata": {},
   "outputs": [],
   "source": [
    "def contexto_a_mostrar(metadatos):\n",
    "    step1 = set(metadatos)\n",
    "    step2 = sorted(step1, key=lambda x: x[0])\n",
    "    return step2"
   ]
  },
  {
   "cell_type": "code",
   "execution_count": 78,
   "id": "53e40809",
   "metadata": {},
   "outputs": [
    {
     "data": {
      "text/plain": [
       "[(109, 'chapter 26', '1st book: 1805'),\n",
       " (1222, 'chapter 4', '15th book: 1812 - 13'),\n",
       " (1317, 'chapter 14', '1st epilogue: 1813 - 20'),\n",
       " (1327, 'chapter 16', '1st epilogue: 1813 - 20')]"
      ]
     },
     "execution_count": 78,
     "metadata": {},
     "output_type": "execute_result"
    }
   ],
   "source": [
    "contexto_a_mostrar(test2)"
   ]
  },
  {
   "cell_type": "code",
   "execution_count": 61,
   "id": "ff6ea493",
   "metadata": {},
   "outputs": [],
   "source": [
    "def obtener_capitulo_libro(chapter, book, page):\n",
    "    return f\"{chapter} of {book} (page {page})\""
   ]
  },
  {
   "cell_type": "code",
   "execution_count": 79,
   "id": "1ab301a4",
   "metadata": {},
   "outputs": [
    {
     "data": {
      "text/plain": [
       "['chapter 26 of 1st book: 1805 (page 109)',\n",
       " 'chapter 4 of 15th book: 1812 - 13 (page 1222)',\n",
       " 'chapter 14 of 1st epilogue: 1813 - 20 (page 1317)']"
      ]
     },
     "execution_count": 79,
     "metadata": {},
     "output_type": "execute_result"
    }
   ],
   "source": [
    "[obtener_capitulo_libro(chapter, book, page) for page, chapter, book in contexto_a_mostrar(test2)[:-1]]"
   ]
  },
  {
   "cell_type": "code",
   "execution_count": 30,
   "id": "c9ccd6eb",
   "metadata": {},
   "outputs": [],
   "source": [
    "def obtener_contexto(total_pages):\n",
    "    if len(total_pages) > 1:\n",
    "        context_pages = [obtener_capitulo_libro(chapter, book, page) for page, chapter, book in total_pages[:-1]]\n",
    "        contexto_paginas = \", \".join(context_pages)\n",
    "        last_page = context_pages[-1]\n",
    "        texto_final = f\"You can find more context for these questions on {contexto_paginas} and {last_page}\"\n",
    "    elif len(total_pages) == 1:\n",
    "        page, chapter, book = total_pages[0]\n",
    "        texto_final = f\"You can find more context for this question on {obtener_capitulo_libro(chapter, book, page)}\"\n",
    "    else:\n",
    "        texto_final = \"There is no specific context for this question\"\n",
    "    return texto_final"
   ]
  },
  {
   "cell_type": "code",
   "execution_count": 80,
   "id": "a0873cbd",
   "metadata": {},
   "outputs": [
    {
     "data": {
      "text/plain": [
       "'You can find more context for these questions on chapter 26 of 1st book: 1805 (page 109), chapter 4 of 15th book: 1812 - 13 (page 1222), chapter 14 of 1st epilogue: 1813 - 20 (page 1317) and chapter 14 of 1st epilogue: 1813 - 20 (page 1317)'"
      ]
     },
     "execution_count": 80,
     "metadata": {},
     "output_type": "execute_result"
    }
   ],
   "source": [
    "obtener_contexto(contexto_a_mostrar(test2))"
   ]
  },
  {
   "cell_type": "code",
   "execution_count": 82,
   "id": "68a61e70",
   "metadata": {},
   "outputs": [],
   "source": [
    "def funcion_todo(list_of_retrieval, book, metadatos):\n",
    "    texto_limpio = limpiar_texto(list_of_retrieval)\n",
    "    tmp = []\n",
    "    for texto in texto_limpio:\n",
    "        texto_in = texto[1:20]\n",
    "        tmp.append(buscar_pagina(texto_in, book))\n",
    "    metadatos_paginas = []\n",
    "    for page in tmp:\n",
    "        metadatos_paginas.append(book_chapter(page,texto_limpio))\n",
    "    context1 = contexto_a_mostrar(metadatos_paginas)\n",
    "    final_answer = obtener_contexto(context1)\n",
    "    return final_answer"
   ]
  },
  {
   "cell_type": "code",
   "execution_count": 83,
   "id": "8e579aa3",
   "metadata": {},
   "outputs": [
    {
     "data": {
      "text/plain": [
       "'You can find more context for these questions on chapter 26 of 1st book: 1805 (page 109), chapter 4 of 15th book: 1812 - 13 (page 1222), chapter 14 of 1st epilogue: 1813 - 20 (page 1317) and chapter 14 of 1st epilogue: 1813 - 20 (page 1317)'"
      ]
     },
     "execution_count": 83,
     "metadata": {},
     "output_type": "execute_result"
    }
   ],
   "source": [
    "funcion_todo(retrieval_,libro,meta_datos)"
   ]
  },
  {
   "cell_type": "code",
   "execution_count": 66,
   "id": "d04b7a43",
   "metadata": {},
   "outputs": [
    {
     "data": {
      "text/plain": [
       "(1222, 'chapter 4', '15th book: 1812 - 13')"
      ]
     },
     "execution_count": 66,
     "metadata": {},
     "output_type": "execute_result"
    }
   ],
   "source": [
    "book_chapter(1222,limpiar_texto(retrieval_))"
   ]
  },
  {
   "cell_type": "code",
   "execution_count": 49,
   "id": "a1f31795",
   "metadata": {},
   "outputs": [
    {
     "data": {
      "text/plain": [
       "[]"
      ]
     },
     "execution_count": 49,
     "metadata": {},
     "output_type": "execute_result"
    }
   ],
   "source": [
    "tmp"
   ]
  }
 ],
 "metadata": {
  "kernelspec": {
   "display_name": "Python 3 (ipykernel)",
   "language": "python",
   "name": "python3"
  },
  "language_info": {
   "codemirror_mode": {
    "name": "ipython",
    "version": 3
   },
   "file_extension": ".py",
   "mimetype": "text/x-python",
   "name": "python",
   "nbconvert_exporter": "python",
   "pygments_lexer": "ipython3",
   "version": "3.10.6"
  },
  "toc": {
   "base_numbering": 1,
   "nav_menu": {},
   "number_sections": true,
   "sideBar": true,
   "skip_h1_title": false,
   "title_cell": "Table of Contents",
   "title_sidebar": "Contents",
   "toc_cell": false,
   "toc_position": {},
   "toc_section_display": true,
   "toc_window_display": false
  }
 },
 "nbformat": 4,
 "nbformat_minor": 5
}
