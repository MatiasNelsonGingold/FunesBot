{
 "cells": [
  {
   "cell_type": "code",
   "execution_count": 1,
   "id": "11f341da",
   "metadata": {},
   "outputs": [],
   "source": [
    "#FORMA \"MANUAL\": SE DEMORA UN MONTÓN DADO EL LARGO DEL LIBRO\n",
    "\n",
    "import PyPDF4\n",
    "ruta_pdf2 = './War and Peace (Leo Tolstoy).pdf'\n",
    "def buscar_texto_en_pdf(ruta_pdf2, texto):\n",
    "    # Leer el contenido del PDF\n",
    "    with open(ruta_pdf2, 'rb') as file:\n",
    "        reader = PyPDF4.PdfFileReader(file)\n",
    "        num_paginas = reader.numPages\n",
    "\n",
    "        for pagina in range(num_paginas):\n",
    "            page = reader.getPage(pagina)\n",
    "            contenido = page.extractText()\n",
    "            if texto in contenido:\n",
    "                return pagina + 1"
   ]
  },
  {
   "cell_type": "markdown",
   "id": "c8bcc410",
   "metadata": {},
   "source": [
    "INICIO DEL CÓDIGO MANUAL"
   ]
  },
  {
   "cell_type": "code",
   "execution_count": 53,
   "id": "46c41c8d",
   "metadata": {},
   "outputs": [],
   "source": [
    "ruta_archivo = \"./who_is_pierre.txt\" \n",
    "with open(ruta_archivo, \"r\", encoding=\"utf-8\") as archivo:\n",
    "    texto = archivo.read()"
   ]
  },
  {
   "cell_type": "code",
   "execution_count": 68,
   "id": "a8e46275",
   "metadata": {},
   "outputs": [],
   "source": [
    "import re\n",
    "def extraer_texto_parentesis(texto):\n",
    "    patron = r\"\\(Chapter (\\d+)\\)\"\n",
    "    resultados = re.findall(patron, texto)\n",
    "    return set(resultados)"
   ]
  },
  {
   "cell_type": "code",
   "execution_count": 72,
   "id": "f78a6ae8",
   "metadata": {},
   "outputs": [],
   "source": [
    "caps = extraer_texto_parentesis(texto)"
   ]
  },
  {
   "cell_type": "code",
   "execution_count": 50,
   "id": "f7356da7",
   "metadata": {},
   "outputs": [],
   "source": [
    "import roman"
   ]
  },
  {
   "cell_type": "code",
   "execution_count": 75,
   "id": "ea71c95d",
   "metadata": {},
   "outputs": [],
   "source": [
    "def convertir_a_romano(numero):\n",
    "    return roman.toRoman(numero)\n",
    "\n",
    "def convertir_numeros_romanos(conjunto):\n",
    "    conjunto_romano = set()\n",
    "    for valor in conjunto:\n",
    "        numero_romano = convertir_a_romano(int(valor))\n",
    "        conjunto_romano.add(numero_romano)\n",
    "    return conjunto_romano"
   ]
  },
  {
   "cell_type": "code",
   "execution_count": 76,
   "id": "da2342b2",
   "metadata": {},
   "outputs": [
    {
     "data": {
      "text/plain": [
       "{'XXI', 'XXII', 'XXIV'}"
      ]
     },
     "execution_count": 76,
     "metadata": {},
     "output_type": "execute_result"
    }
   ],
   "source": [
    "convertir_numeros_romanos(caps)"
   ]
  },
  {
   "cell_type": "code",
   "execution_count": 78,
   "id": "7198ec39",
   "metadata": {},
   "outputs": [],
   "source": [
    "import PyPDF4\n",
    "ruta_pdf2 = './War and Peace (Leo Tolstoy).pdf'\n",
    "def buscar_texto_en_pdf2(ruta_pdf2, texto):\n",
    "    # Leer el contenido del PDF\n",
    "    with open(ruta_pdf2, 'rb') as file:\n",
    "        reader = PyPDF4.PdfFileReader(file)\n",
    "        num_paginas = reader.numPages\n",
    "        \n",
    "        paginas_encontradas = []\n",
    "        \n",
    "            if texto in contenido:\n",
    "                indice = contenido.index(texto)\n",
    "                letra_siguiente = contenidofor pagina in range(num_paginas):\n",
    "            page = reader.getPage(pagina)\n",
    "            contenido = page.extractText()[indice + len(texto)]\n",
    "                if letra_siguiente == '\\n':\n",
    "                    paginas_encontradas.append(pagina + 1)\n",
    "\n",
    "        return paginas_encontradas"
   ]
  },
  {
   "cell_type": "code",
   "execution_count": 109,
   "id": "8f0f1f20",
   "metadata": {},
   "outputs": [],
   "source": [
    "texto_a_buscar = 'Pierre answered that he'"
   ]
  },
  {
   "cell_type": "code",
   "execution_count": 110,
   "id": "e07e2d94",
   "metadata": {},
   "outputs": [],
   "source": [
    "paginas_encontradas = buscar_texto_en_pdf(ruta_pdf2, texto_a_buscar)"
   ]
  },
  {
   "cell_type": "code",
   "execution_count": 108,
   "id": "61b2d0e3",
   "metadata": {},
   "outputs": [
    {
     "name": "stdout",
     "output_type": "stream",
     "text": [
      "El texto no se encontró en el PDF.\n"
     ]
    }
   ],
   "source": [
    "if paginas_encontradas:\n",
    "    print(f\"El texto '{texto_a_buscar}' se encuentra en las páginas: {paginas_encontradas}\")\n",
    "else:\n",
    "    print(\"El texto no se encontró en el PDF.\")"
   ]
  },
  {
   "cell_type": "code",
   "execution_count": 48,
   "id": "739c7ac1",
   "metadata": {},
   "outputs": [],
   "source": []
  }
 ],
 "metadata": {
  "kernelspec": {
   "display_name": "Python 3 (ipykernel)",
   "language": "python",
   "name": "python3"
  },
  "language_info": {
   "codemirror_mode": {
    "name": "ipython",
    "version": 3
   },
   "file_extension": ".py",
   "mimetype": "text/x-python",
   "name": "python",
   "nbconvert_exporter": "python",
   "pygments_lexer": "ipython3",
   "version": "3.10.6"
  },
  "toc": {
   "base_numbering": 1,
   "nav_menu": {},
   "number_sections": true,
   "sideBar": true,
   "skip_h1_title": false,
   "title_cell": "Table of Contents",
   "title_sidebar": "Contents",
   "toc_cell": false,
   "toc_position": {},
   "toc_section_display": true,
   "toc_window_display": false
  }
 },
 "nbformat": 4,
 "nbformat_minor": 5
}
