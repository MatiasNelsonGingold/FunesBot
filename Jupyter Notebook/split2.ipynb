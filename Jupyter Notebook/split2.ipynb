{
 "cells": [
  {
   "cell_type": "code",
   "execution_count": 2,
   "id": "c7bda66d",
   "metadata": {},
   "outputs": [],
   "source": [
    "import langchain"
   ]
  },
  {
   "cell_type": "code",
   "execution_count": 3,
   "id": "9d670555",
   "metadata": {},
   "outputs": [],
   "source": [
    "from langchain.document_loaders import PyPDFLoader"
   ]
  },
  {
   "cell_type": "code",
   "execution_count": 4,
   "id": "b63c4c32",
   "metadata": {},
   "outputs": [],
   "source": [
    "ruta_pdf = './War and Peace (Leo Tolstoy).pdf'"
   ]
  },
  {
   "cell_type": "code",
   "execution_count": 5,
   "id": "8b5c2259",
   "metadata": {},
   "outputs": [],
   "source": [
    "loader = PyPDFLoader(ruta_pdf)\n",
    "pages = loader.load_and_split()\n",
    "libro = [page.page_content for page in pages]"
   ]
  },
  {
   "cell_type": "code",
   "execution_count": 77,
   "id": "1768454b",
   "metadata": {},
   "outputs": [],
   "source": [
    "#paso no necesario para la función final, ya que, el retrieval viene dado\n",
    "ruta_archivo = \"./who_is_pierre_list_of_contextual_retrieval.txt\" \n",
    "with open(ruta_archivo, \"r\", encoding=\"utf-8\") as archivo:\n",
    "    list_of_contextual_retrival = archivo.read()"
   ]
  },
  {
   "cell_type": "code",
   "execution_count": 83,
   "id": "9a89623c",
   "metadata": {},
   "outputs": [],
   "source": [
    "elementos = list_of_contextual_retrival.split(\"',\")\n",
    "def limpiar_texto(texto):\n",
    "    texto_sin_saltos = texto.replace(\"\\\\n\", \" \")\n",
    "    texto_limpio = texto_sin_saltos.replace(\"\\\\\", \" \")\n",
    "    texto_sin_saltos_ = texto_limpio.replace(\"\\n\",\"\")\n",
    "    return texto_sin_saltos_\n",
    "lista_limpia = [limpiar_texto(texto) for texto in elementos]"
   ]
  },
  {
   "cell_type": "code",
   "execution_count": 9,
   "id": "7f0a193a",
   "metadata": {},
   "outputs": [],
   "source": [
    "def buscar_pagina(texto_buscado, lista):\n",
    "    for indice, texto in enumerate(lista):\n",
    "        if texto_buscado in texto:\n",
    "            return indice + 1\n",
    "    return -1"
   ]
  },
  {
   "cell_type": "code",
   "execution_count": 106,
   "id": "6cb9374e",
   "metadata": {},
   "outputs": [],
   "source": [
    "paginas = []\n",
    "for texto in lista_limpia:\n",
    "    texto_in = texto[1:125]\n",
    "    paginas.append(buscar_pagina(texto_in, libro))    "
   ]
  },
  {
   "cell_type": "code",
   "execution_count": 107,
   "id": "5c2788d7",
   "metadata": {},
   "outputs": [
    {
     "data": {
      "text/plain": [
       "[1081, 226, 490, 233, 1051]"
      ]
     },
     "execution_count": 107,
     "metadata": {},
     "output_type": "execute_result"
    }
   ],
   "source": [
    "paginas"
   ]
  }
 ],
 "metadata": {
  "kernelspec": {
   "display_name": "Python 3 (ipykernel)",
   "language": "python",
   "name": "python3"
  },
  "language_info": {
   "codemirror_mode": {
    "name": "ipython",
    "version": 3
   },
   "file_extension": ".py",
   "mimetype": "text/x-python",
   "name": "python",
   "nbconvert_exporter": "python",
   "pygments_lexer": "ipython3",
   "version": "3.10.6"
  },
  "toc": {
   "base_numbering": 1,
   "nav_menu": {},
   "number_sections": true,
   "sideBar": true,
   "skip_h1_title": false,
   "title_cell": "Table of Contents",
   "title_sidebar": "Contents",
   "toc_cell": false,
   "toc_position": {},
   "toc_section_display": true,
   "toc_window_display": false
  }
 },
 "nbformat": 4,
 "nbformat_minor": 5
}
