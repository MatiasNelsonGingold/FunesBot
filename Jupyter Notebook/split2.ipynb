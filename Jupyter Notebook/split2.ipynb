{
 "cells": [
  {
   "cell_type": "code",
   "execution_count": 2,
   "id": "bc7309b2",
   "metadata": {},
   "outputs": [],
   "source": [
    "import langchain"
   ]
  },
  {
   "cell_type": "code",
   "execution_count": 3,
   "id": "1bafeb25",
   "metadata": {},
   "outputs": [],
   "source": [
    "from langchain.document_loaders import PyPDFLoader"
   ]
  },
  {
   "cell_type": "code",
   "execution_count": 4,
   "id": "7404d8a9",
   "metadata": {},
   "outputs": [],
   "source": [
    "ruta_pdf = './War and Peace (Leo Tolstoy).pdf'"
   ]
  },
  {
   "cell_type": "code",
   "execution_count": 5,
   "id": "dc17e057",
   "metadata": {},
   "outputs": [],
   "source": [
    "loader = PyPDFLoader(ruta_pdf)\n",
    "pages = loader.load_and_split()\n",
    "libro = [page.page_content for page in pages]"
   ]
  },
  {
   "cell_type": "code",
   "execution_count": 1,
   "id": "dac74144",
   "metadata": {},
   "outputs": [],
   "source": [
    "#paso no necesario para la función final, ya que, el retrieval viene dado\n",
    "ruta_archivo = \"./who_is_pierre_list_of_contextual_retrieval.txt\" \n",
    "with open(ruta_archivo, \"r\", encoding=\"utf-8\") as archivo:\n",
    "    list_of_contextual_retrival = archivo.read()\n",
    "elementos = list_of_contextual_retrival.split(\"',\")"
   ]
  },
  {
   "cell_type": "code",
   "execution_count": 10,
   "id": "919b2f8f",
   "metadata": {},
   "outputs": [
    {
     "data": {
      "text/plain": [
       "[\"'Pierre answered that he “was\\\\nprotecting a woman,” and that “to protect a woman who was being insulted\\\\nwas the duty of every man; that...” They interrupted him, for this\\\\nwas not to the point. Why was he in the yard of a burning house where\\\\nwitnesses had seen him? He replied that he had gone out to see what\\\\nwas happening in Moscow. Again they interrupted him: they had not asked\\\\nwhere he was going, but why he was found near the fire? Who was he? they\\\\nasked, repeating their first question, which he had declined to answer.\\\\n\",\n",
       " \"\\n'It seemed so natural to Pierre that everyone should like him, and it\\\\nwould have seemed so unnatural had anyone disliked him, that he could\\\\nnot but believe in the sincerity of those around him. Besides, he had\\\\nno time to ask himself whether these people were sincere or not. He\\\\nwas always busy and always felt in a state of mild and cheerful\\\\nintoxication. \",\n",
       " \"\\n'Pierre saw that there was a conspiracy against him and\\\\nthat they wanted to reunite him with his wife, and in the mood he then\\\\nwas, this was not even unpleasant to him. Nothing mattered to him.\\\\nNothing in life seemed to him of much importance, and under the\\\\ninfluence of the depression that possessed him he valued neither his\\\\nliberty nor his resolution to punish his wife.\\\\n\\\\n“No one is right and no one is to blame; so she too is not to\\\\nblame,” he thought.\\\\n\\\\n\",\n",
       " \"\\n'Pierre was one of those who are only strong when they feel\\\\nthemselves quite innocent, and since that day when he was overpowered\\\\nby a feeling of desire while stooping over the snuffbox at Anna\\\\nPávlovna’s, an unacknowledged sense of the guilt of that desire\\\\nparalyzed his will.\\\\n\\\\nOn Hélène’s name day, a small party of just their own people—as\\\\nhis wife said—met for supper at Prince Vasíli’s. All these friends\\\\nand relations had been given to understand that the fate of the young\\\\ngirl would be decided that evening. The visitors were seated at supper.\\\\n\",\n",
       " \"\\n'He only remembered beating someone and\\\\nbeing beaten and finally feeling that his hands were bound and that a\\\\ncrowd of French soldiers stood around him and were searching him.\\\\n\\\\n“Lieutenant, he has a dagger,” were the first words Pierre understood.\\\\n\\\\n“Ah, a weapon?” said the officer and turned to the barefooted soldier\\\\nwho had been arrested with Pierre. “All right, you can tell all about it\\\\nat the court-martial.” Then he turned to Pierre. “Do you speak French?”\\\\n\\\\nPierre looked around him with bloodshot eyes and did not reply. \",\n",
       " \"\\n'blaaksdjkaaksdja'\"]"
      ]
     },
     "execution_count": 10,
     "metadata": {},
     "output_type": "execute_result"
    }
   ],
   "source": [
    "elementos"
   ]
  },
  {
   "cell_type": "code",
   "execution_count": 20,
   "id": "b0c3bdeb",
   "metadata": {},
   "outputs": [],
   "source": [
    "def limpiar_texto(retrieval):\n",
    "    for texto in retrieval:\n",
    "        texto_sin_saltos = texto.replace(\"\\\\n\", \" \")\n",
    "        texto_limpio = texto_sin_saltos.replace(\"\\\\\", \" \")\n",
    "        texto_sin_saltos_ = texto_limpio.replace(\"\\n\",\"\")\n",
    "        return texto_sin_saltos_"
   ]
  },
  {
   "cell_type": "code",
   "execution_count": 21,
   "id": "3ab4e2f5",
   "metadata": {},
   "outputs": [],
   "source": [
    "lista_limpia = [limpiar_texto(elementos) for texto in elementos]"
   ]
  },
  {
   "cell_type": "code",
   "execution_count": 16,
   "id": "7cbf3ab9",
   "metadata": {},
   "outputs": [
    {
     "data": {
      "text/plain": [
       "[\"'Pierre answered that he “was protecting a woman,” and that “to protect a woman who was being insulted was the duty of every man; that...” They interrupted him, for this was not to the point. Why was he in the yard of a burning house where witnesses had seen him? He replied that he had gone out to see what was happening in Moscow. Again they interrupted him: they had not asked where he was going, but why he was found near the fire? Who was he? they asked, repeating their first question, which he had declined to answer. \",\n",
       " \"'Pierre answered that he “was protecting a woman,” and that “to protect a woman who was being insulted was the duty of every man; that...” They interrupted him, for this was not to the point. Why was he in the yard of a burning house where witnesses had seen him? He replied that he had gone out to see what was happening in Moscow. Again they interrupted him: they had not asked where he was going, but why he was found near the fire? Who was he? they asked, repeating their first question, which he had declined to answer. \",\n",
       " \"'Pierre answered that he “was protecting a woman,” and that “to protect a woman who was being insulted was the duty of every man; that...” They interrupted him, for this was not to the point. Why was he in the yard of a burning house where witnesses had seen him? He replied that he had gone out to see what was happening in Moscow. Again they interrupted him: they had not asked where he was going, but why he was found near the fire? Who was he? they asked, repeating their first question, which he had declined to answer. \",\n",
       " \"'Pierre answered that he “was protecting a woman,” and that “to protect a woman who was being insulted was the duty of every man; that...” They interrupted him, for this was not to the point. Why was he in the yard of a burning house where witnesses had seen him? He replied that he had gone out to see what was happening in Moscow. Again they interrupted him: they had not asked where he was going, but why he was found near the fire? Who was he? they asked, repeating their first question, which he had declined to answer. \",\n",
       " \"'Pierre answered that he “was protecting a woman,” and that “to protect a woman who was being insulted was the duty of every man; that...” They interrupted him, for this was not to the point. Why was he in the yard of a burning house where witnesses had seen him? He replied that he had gone out to see what was happening in Moscow. Again they interrupted him: they had not asked where he was going, but why he was found near the fire? Who was he? they asked, repeating their first question, which he had declined to answer. \",\n",
       " \"'Pierre answered that he “was protecting a woman,” and that “to protect a woman who was being insulted was the duty of every man; that...” They interrupted him, for this was not to the point. Why was he in the yard of a burning house where witnesses had seen him? He replied that he had gone out to see what was happening in Moscow. Again they interrupted him: they had not asked where he was going, but why he was found near the fire? Who was he? they asked, repeating their first question, which he had declined to answer. \"]"
      ]
     },
     "execution_count": 16,
     "metadata": {},
     "output_type": "execute_result"
    }
   ],
   "source": [
    "lista_limpia"
   ]
  },
  {
   "cell_type": "code",
   "execution_count": 9,
   "id": "5dd99a69",
   "metadata": {},
   "outputs": [],
   "source": [
    "def buscar_pagina(texto_buscado, lista):\n",
    "    for indice, texto in enumerate(lista):\n",
    "        if texto_buscado in texto:\n",
    "            return indice + 1\n",
    "    return -1"
   ]
  },
  {
   "cell_type": "code",
   "execution_count": 106,
   "id": "9895497f",
   "metadata": {},
   "outputs": [],
   "source": [
    "paginas = []\n",
    "for texto in lista_limpia:\n",
    "    texto_in = texto[1:125]\n",
    "    paginas.append(buscar_pagina(texto_in, libro))    "
   ]
  },
  {
   "cell_type": "code",
   "execution_count": 107,
   "id": "177b53ad",
   "metadata": {},
   "outputs": [
    {
     "data": {
      "text/plain": [
       "[1081, 226, 490, 233, 1051]"
      ]
     },
     "execution_count": 107,
     "metadata": {},
     "output_type": "execute_result"
    }
   ],
   "source": [
    "paginas"
   ]
  },
  {
   "cell_type": "code",
   "execution_count": 191,
   "id": "cf4a5dc4",
   "metadata": {},
   "outputs": [],
   "source": [
    "lista = [6, 1, 2, 3, -2, 4, 3, 5, -1, 2, -3]"
   ]
  },
  {
   "cell_type": "code",
   "execution_count": 192,
   "id": "566658b2",
   "metadata": {},
   "outputs": [],
   "source": [
    "conjunto = set(lista)"
   ]
  },
  {
   "cell_type": "code",
   "execution_count": 195,
   "id": "2d2151a7",
   "metadata": {},
   "outputs": [],
   "source": [
    "cam = [num for num in conjunto if num > 0]"
   ]
  },
  {
   "cell_type": "code",
   "execution_count": 203,
   "id": "019f8b93",
   "metadata": {},
   "outputs": [],
   "source": [
    "def paginas_a_mostrar(list):\n",
    "    conjunto = set(list)\n",
    "    filter_list = [num for num in conjunto if num > 0]\n",
    "    return filter_list"
   ]
  },
  {
   "cell_type": "code",
   "execution_count": 213,
   "id": "21c46f0a",
   "metadata": {},
   "outputs": [],
   "source": [
    "abc =paginas_a_mostrar(paginas)"
   ]
  },
  {
   "cell_type": "code",
   "execution_count": 219,
   "id": "3a64b671",
   "metadata": {},
   "outputs": [],
   "source": [
    "def obtener_contexto(total_pages):\n",
    "    if len(total_pages) > 1:\n",
    "        pages = \", \".join(map(str, sorted(total_pages[:-1])))\n",
    "        ultimo_pagina = str(paginas_totales[-1])\n",
    "        texto_resultado = f\"Puedes encontrar más contexto para tus preguntas en las páginas {paginas} y {ultimo_pagina}\"\n",
    "    elif len(paginas_totales) == 1:\n",
    "        texto_resultado = f\"Puedes encontrar más contexto para tus preguntas en la página {total_pages[0]}\"\n",
    "    else:\n",
    "        texto_resultado = \"No hay páginas disponibles.\"\n",
    "    return texto_resultado"
   ]
  },
  {
   "cell_type": "code",
   "execution_count": 228,
   "id": "ece38e05",
   "metadata": {},
   "outputs": [
    {
     "data": {
      "text/plain": [
       "'No hay páginas disponibles.'"
      ]
     },
     "execution_count": 228,
     "metadata": {},
     "output_type": "execute_result"
    }
   ],
   "source": [
    "obtener_contexto(abc)"
   ]
  }
 ],
 "metadata": {
  "kernelspec": {
   "display_name": "Python 3 (ipykernel)",
   "language": "python",
   "name": "python3"
  },
  "language_info": {
   "codemirror_mode": {
    "name": "ipython",
    "version": 3
   },
   "file_extension": ".py",
   "mimetype": "text/x-python",
   "name": "python",
   "nbconvert_exporter": "python",
   "pygments_lexer": "ipython3",
   "version": "3.10.6"
  },
  "toc": {
   "base_numbering": 1,
   "nav_menu": {},
   "number_sections": true,
   "sideBar": true,
   "skip_h1_title": false,
   "title_cell": "Table of Contents",
   "title_sidebar": "Contents",
   "toc_cell": false,
   "toc_position": {},
   "toc_section_display": true,
   "toc_window_display": false
  }
 },
 "nbformat": 4,
 "nbformat_minor": 5
}
