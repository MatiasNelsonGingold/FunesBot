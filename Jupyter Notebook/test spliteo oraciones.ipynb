{
 "cells": [
  {
   "cell_type": "code",
   "execution_count": 2,
   "id": "51a9dfe7",
   "metadata": {},
   "outputs": [],
   "source": [
    "import nltk\n",
    "from nltk.tokenize import word_tokenize\n",
    "\n",
    "# Load the \"War and Peace\" text\n",
    "with open(\"war_and_peace.txt\", \"r\", encoding=\"utf-8\") as file:\n",
    "    war_and_peace_text = file.read()\n",
    "\n",
    "# Tokenize the text into words\n",
    "words = word_tokenize(war_and_peace_text)"
   ]
  },
  {
   "cell_type": "code",
   "execution_count": 8,
   "id": "11b8bc6d",
   "metadata": {},
   "outputs": [],
   "source": [
    "from nltk.tokenize import sent_tokenize\n",
    "\n",
    "paragraphs = sent_tokenize(war_and_peace_text)\n",
    "paragraphs = [paragraph.replace(\"\\n\", \"\") for paragraph in paragraphs]"
   ]
  },
  {
   "cell_type": "code",
   "execution_count": 16,
   "id": "cf13bc93",
   "metadata": {},
   "outputs": [
    {
     "data": {
      "text/plain": [
       "\"But I warn you, if you don't tell me that this means war,if you still try to defend the infamies and horrors perpetrated by thatAntichrist--I really believe he is Antichrist--I will have nothing moreto do with you and you are no longer my friend, no longer my 'faithfulslave,' as you call yourself!\""
      ]
     },
     "execution_count": 16,
     "metadata": {},
     "output_type": "execute_result"
    }
   ],
   "source": [
    "paragraphs[1]"
   ]
  },
  {
   "cell_type": "code",
   "execution_count": 10,
   "id": "f5b7b99c",
   "metadata": {},
   "outputs": [],
   "source": [
    "import re\n",
    "paragraphs_2 = re.split(r\"\\n\\n+\", war_and_peace_text)\n",
    "paragraphs_2 = [paragraph.replace(\"\\n\", \"\") for paragraph in paragraphs]"
   ]
  },
  {
   "cell_type": "code",
   "execution_count": 15,
   "id": "c9d86b01",
   "metadata": {},
   "outputs": [
    {
     "data": {
      "text/plain": [
       "\"But I warn you, if you don't tell me that this means war,if you still try to defend the infamies and horrors perpetrated by thatAntichrist--I really believe he is Antichrist--I will have nothing moreto do with you and you are no longer my friend, no longer my 'faithfulslave,' as you call yourself!\""
      ]
     },
     "execution_count": 15,
     "metadata": {},
     "output_type": "execute_result"
    }
   ],
   "source": [
    "paragraphs_2[1]"
   ]
  },
  {
   "cell_type": "code",
   "execution_count": 17,
   "id": "c4b55efc",
   "metadata": {},
   "outputs": [
    {
     "data": {
      "text/plain": [
       "32039"
      ]
     },
     "execution_count": 17,
     "metadata": {},
     "output_type": "execute_result"
    }
   ],
   "source": [
    "len(paragraphs_2)"
   ]
  },
  {
   "cell_type": "code",
   "execution_count": 18,
   "id": "02bcca4f",
   "metadata": {},
   "outputs": [
    {
     "data": {
      "text/plain": [
       "32039"
      ]
     },
     "execution_count": 18,
     "metadata": {},
     "output_type": "execute_result"
    }
   ],
   "source": [
    "len(paragraphs)"
   ]
  }
 ],
 "metadata": {
  "kernelspec": {
   "display_name": "Python 3 (ipykernel)",
   "language": "python",
   "name": "python3"
  },
  "language_info": {
   "codemirror_mode": {
    "name": "ipython",
    "version": 3
   },
   "file_extension": ".py",
   "mimetype": "text/x-python",
   "name": "python",
   "nbconvert_exporter": "python",
   "pygments_lexer": "ipython3",
   "version": "3.10.6"
  },
  "toc": {
   "base_numbering": 1,
   "nav_menu": {},
   "number_sections": true,
   "sideBar": true,
   "skip_h1_title": false,
   "title_cell": "Table of Contents",
   "title_sidebar": "Contents",
   "toc_cell": false,
   "toc_position": {},
   "toc_section_display": true,
   "toc_window_display": false
  }
 },
 "nbformat": 4,
 "nbformat_minor": 5
}
